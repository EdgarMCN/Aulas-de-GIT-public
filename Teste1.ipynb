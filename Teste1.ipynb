{
  "nbformat": 4,
  "nbformat_minor": 0,
  "metadata": {
    "colab": {
      "provenance": [],
      "authorship_tag": "ABX9TyNdL6FSELjpxItsSmg2diXd",
      "include_colab_link": true
    },
    "kernelspec": {
      "name": "python3",
      "display_name": "Python 3"
    },
    "language_info": {
      "name": "python"
    }
  },
  "cells": [
    {
      "cell_type": "markdown",
      "metadata": {
        "id": "view-in-github",
        "colab_type": "text"
      },
      "source": [
        "<a href=\"https://colab.research.google.com/github/EdgarMCN/Aulas-de-GIT-public/blob/main/Teste1.ipynb\" target=\"_parent\"><img src=\"https://colab.research.google.com/assets/colab-badge.svg\" alt=\"Open In Colab\"/></a>"
      ]
    },
    {
      "cell_type": "markdown",
      "source": [
        "INPUT, PRINT"
      ],
      "metadata": {
        "id": "t2byCE6sG-Ir"
      }
    },
    {
      "cell_type": "markdown",
      "source": [],
      "metadata": {
        "id": "KFciMQcyu6pR"
      }
    },
    {
      "cell_type": "code",
      "execution_count": null,
      "metadata": {
        "colab": {
          "base_uri": "https://localhost:8080/"
        },
        "id": "6uFDfZGMF6Po",
        "outputId": "bcc80eee-0684-44a4-9cdc-7c24cb601023"
      },
      "outputs": [
        {
          "output_type": "stream",
          "name": "stdout",
          "text": [
            "Digite o primeiro nomeEverton\n",
            "Digite o segundo nomeGarcia\n",
            "Digite o terceiro nomeMenezes\n",
            "Everton Garcia Menezes, seja muito bem vindo a DNC!\n"
          ]
        }
      ],
      "source": [
        "nomePrimeiro = input(\"Digite o primeiro nome\")\n",
        "nomeDoMeio = input(\"Digite o segundo nome\")\n",
        "nomeUltimo = input(\"Digite o terceiro nome\")\n",
        "print(nomePrimeiro,nomeDoMeio,nomeUltimo + \",\",\"seja muito bem vindo a DNC!\")"
      ]
    },
    {
      "cell_type": "code",
      "source": [
        "cliente_nome = input(\"Digite o nome do cliente \")\n",
        "cliente_idade = input(\"Digite a idade do cliente \")\n",
        "print(\"O nome do cliente é\",cliente_nome,\"e a idade do cliente é\",cliente_idade+\".\")"
      ],
      "metadata": {
        "colab": {
          "base_uri": "https://localhost:8080/"
        },
        "id": "MPNSZXsBj9lx",
        "outputId": "afe45ba6-f21d-4afe-be3d-9758df24b39b"
      },
      "execution_count": null,
      "outputs": [
        {
          "output_type": "stream",
          "name": "stdout",
          "text": [
            "Digite o nome do cliente André\n",
            "Digite a idade do cliente 35\n",
            "O nome do cliente é André e a idade do cliente é 35.\n"
          ]
        }
      ]
    },
    {
      "cell_type": "code",
      "source": [
        "import this"
      ],
      "metadata": {
        "colab": {
          "base_uri": "https://localhost:8080/"
        },
        "id": "pswrZZtqlS71",
        "outputId": "61d2e3af-205c-4c78-82f1-83d6996f3c2d"
      },
      "execution_count": null,
      "outputs": [
        {
          "output_type": "stream",
          "name": "stdout",
          "text": [
            "The Zen of Python, by Tim Peters\n",
            "\n",
            "Beautiful is better than ugly.\n",
            "Explicit is better than implicit.\n",
            "Simple is better than complex.\n",
            "Complex is better than complicated.\n",
            "Flat is better than nested.\n",
            "Sparse is better than dense.\n",
            "Readability counts.\n",
            "Special cases aren't special enough to break the rules.\n",
            "Although practicality beats purity.\n",
            "Errors should never pass silently.\n",
            "Unless explicitly silenced.\n",
            "In the face of ambiguity, refuse the temptation to guess.\n",
            "There should be one-- and preferably only one --obvious way to do it.\n",
            "Although that way may not be obvious at first unless you're Dutch.\n",
            "Now is better than never.\n",
            "Although never is often better than *right* now.\n",
            "If the implementation is hard to explain, it's a bad idea.\n",
            "If the implementation is easy to explain, it may be a good idea.\n",
            "Namespaces are one honking great idea -- let's do more of those!\n"
          ]
        }
      ]
    },
    {
      "cell_type": "code",
      "source": [
        "print('aae'*4)"
      ],
      "metadata": {
        "colab": {
          "base_uri": "https://localhost:8080/"
        },
        "id": "hzeP9I4UAj7P",
        "outputId": "2d75e52d-1025-4fa9-a123-5becc02e7484"
      },
      "execution_count": null,
      "outputs": [
        {
          "output_type": "stream",
          "name": "stdout",
          "text": [
            "aaeaaeaaeaae\n"
          ]
        }
      ]
    },
    {
      "cell_type": "code",
      "source": [
        "a = 7\n",
        "b = 8\n",
        "print('o valor de a é {} e o de b é {}.'.format(a,b))\n",
        "print(type(a))\n",
        "print(type(str(a)))"
      ],
      "metadata": {
        "colab": {
          "base_uri": "https://localhost:8080/"
        },
        "id": "PYPyaC5tEYqp",
        "outputId": "4e769250-b986-4286-b438-eb7641bd5e94"
      },
      "execution_count": null,
      "outputs": [
        {
          "output_type": "stream",
          "name": "stdout",
          "text": [
            "o valor de a é 7 e o de b é 8.\n",
            "<class 'int'>\n",
            "<class 'str'>\n"
          ]
        }
      ]
    },
    {
      "cell_type": "markdown",
      "source": [
        "STRING MANIPULATION"
      ],
      "metadata": {
        "id": "oQAK1JWijYCm"
      }
    },
    {
      "cell_type": "code",
      "source": [
        "nome='edgar'\n",
        "sobrenome='carvalho'\n",
        "nome1=nome.upper()\n",
        "nome2=nome1.lower()\n",
        "nome3=nome.capitalize()\n",
        "nome4=nome+sobrenome.capitalize()\n",
        "nome5=(nome+sobrenome).capitalize()\n",
        "print(len(nome))\n",
        "print(nome)\n",
        "print(nome1)\n",
        "print(nome2)\n",
        "print(nome3)\n",
        "print(nome4)\n",
        "print(nome5)\n",
        "print(nome)\n"
      ],
      "metadata": {
        "colab": {
          "base_uri": "https://localhost:8080/"
        },
        "id": "on-3VP4CjUI_",
        "outputId": "12c121ad-f64e-4edb-94a0-542f9fbf1027"
      },
      "execution_count": null,
      "outputs": [
        {
          "output_type": "stream",
          "name": "stdout",
          "text": [
            "5\n",
            "edgar\n",
            "EDGAR\n",
            "edgar\n",
            "Edgar\n",
            "edgarCarvalho\n",
            "Edgarcarvalho\n",
            "edgar\n"
          ]
        }
      ]
    },
    {
      "cell_type": "markdown",
      "source": [],
      "metadata": {
        "id": "iKsnpzDXjYGg"
      }
    },
    {
      "cell_type": "markdown",
      "source": [
        "IF, ELSE, ELIF"
      ],
      "metadata": {
        "id": "oq4c9HjPHWbj"
      }
    },
    {
      "cell_type": "markdown",
      "source": [],
      "metadata": {
        "id": "wUJ1pk6PuFje"
      }
    },
    {
      "cell_type": "code",
      "source": [
        "media = float(input('Digite a média das notas.'))\n",
        "if (media >= 9):\n",
        "  print('Aprovado com louvor!')\n",
        "elif(7 <= media <9 ):\n",
        "  print('Aprovado!')\n",
        "else:\n",
        "  print('Reprovado!')"
      ],
      "metadata": {
        "id": "SsH1mbE7HZyU",
        "colab": {
          "base_uri": "https://localhost:8080/"
        },
        "outputId": "0a7159c9-719f-497c-da1f-24afed5bcd61"
      },
      "execution_count": null,
      "outputs": [
        {
          "output_type": "stream",
          "name": "stdout",
          "text": [
            "Digite a média das notas.9\n",
            "Aprovado com louvor!\n"
          ]
        }
      ]
    },
    {
      "cell_type": "markdown",
      "source": [
        "ISNUMERIC, ISALPHA, ISALNUM"
      ],
      "metadata": {
        "id": "LZGKUSf5u8kc"
      }
    },
    {
      "cell_type": "code",
      "source": [
        "var1 = '45'\n",
        "print(var1.isnumeric())\n",
        "int(var1)\n",
        "print(var1.isalpha())\n",
        "print(var1.isalnum())"
      ],
      "metadata": {
        "colab": {
          "base_uri": "https://localhost:8080/"
        },
        "id": "EINEPFn-vNF3",
        "outputId": "1adaac86-8e54-446d-bf24-40b4f62d4e59"
      },
      "execution_count": null,
      "outputs": [
        {
          "output_type": "stream",
          "name": "stdout",
          "text": [
            "True\n",
            "False\n",
            "True\n"
          ]
        }
      ]
    },
    {
      "cell_type": "markdown",
      "source": [
        "FOR, WHILE, BREAK"
      ],
      "metadata": {
        "id": "JL2hAxlRymYx"
      }
    },
    {
      "cell_type": "code",
      "source": [
        "for i in range(1,50,5):\n",
        "  print(i)\n"
      ],
      "metadata": {
        "colab": {
          "base_uri": "https://localhost:8080/"
        },
        "id": "BqtDxjBjyrUy",
        "outputId": "550cd353-503c-4b0e-d1a7-a1721ed62485"
      },
      "execution_count": null,
      "outputs": [
        {
          "output_type": "stream",
          "name": "stdout",
          "text": [
            "1\n",
            "6\n",
            "11\n",
            "16\n",
            "21\n",
            "26\n",
            "31\n",
            "36\n",
            "41\n",
            "46\n"
          ]
        }
      ]
    },
    {
      "cell_type": "code",
      "source": [
        "i=0\n",
        "while i<=5:\n",
        "  print(i)\n",
        "  i+=1"
      ],
      "metadata": {
        "colab": {
          "base_uri": "https://localhost:8080/"
        },
        "id": "f-WdhJv1zC3f",
        "outputId": "5db6925e-0bc5-4731-b1b5-70a1591b788a"
      },
      "execution_count": null,
      "outputs": [
        {
          "output_type": "stream",
          "name": "stdout",
          "text": [
            "0\n",
            "1\n",
            "2\n",
            "3\n",
            "4\n",
            "5\n"
          ]
        }
      ]
    },
    {
      "cell_type": "code",
      "source": [
        "i=0\n",
        "while i>=0:\n",
        "  print(i)\n",
        "  i=i+1\n",
        "  if(i>=7):\n",
        "    break\n"
      ],
      "metadata": {
        "colab": {
          "base_uri": "https://localhost:8080/"
        },
        "id": "jHCMXu4117gW",
        "outputId": "2b537163-7a16-471c-cacb-de58746ff370"
      },
      "execution_count": null,
      "outputs": [
        {
          "output_type": "stream",
          "name": "stdout",
          "text": [
            "0\n",
            "1\n",
            "2\n",
            "3\n",
            "4\n",
            "5\n",
            "6\n"
          ]
        }
      ]
    },
    {
      "cell_type": "markdown",
      "source": [
        "LISTAS E TUPLAS"
      ],
      "metadata": {
        "id": "z8kslTJYlWlF"
      }
    },
    {
      "cell_type": "code",
      "source": [
        "#TUPLAS NÃO PODEM SER MUDADAS\n",
        "tupla = (0,'palavra',35,True,7)\n",
        "print(len(tupla))\n",
        "print(tupla[0])\n",
        "print(tupla[1:3])\n",
        "print(tupla[1:])\n",
        "print(tupla[:3])\n",
        "print(tupla[-1])\n",
        "print(tupla[-2])\n",
        "print(type(tupla))\n",
        "print(type(tupla[3]))\n",
        "for i,j in enumerate(tupla):\n",
        "  print('Na posição',i,'da tupla temos o valor',j,'.')"
      ],
      "metadata": {
        "colab": {
          "base_uri": "https://localhost:8080/"
        },
        "id": "xvROFf9WlVGN",
        "outputId": "97fc23a5-414d-4ae4-f311-45dc15182142"
      },
      "execution_count": null,
      "outputs": [
        {
          "output_type": "stream",
          "name": "stdout",
          "text": [
            "5\n",
            "0\n",
            "('palavra', 35)\n",
            "('palavra', 35, True, 7)\n",
            "(0, 'palavra', 35)\n",
            "7\n",
            "True\n",
            "<class 'tuple'>\n",
            "<class 'bool'>\n",
            "Na posição 0 da tupla temos o valor 0 .\n",
            "Na posição 1 da tupla temos o valor palavra .\n",
            "Na posição 2 da tupla temos o valor 35 .\n",
            "Na posição 3 da tupla temos o valor True .\n",
            "Na posição 4 da tupla temos o valor 7 .\n"
          ]
        }
      ]
    },
    {
      "cell_type": "code",
      "source": [
        "tupla = (0,9,5,3,0)\n",
        "t = ('qww',False,0)\n",
        "print(sorted(tupla))\n",
        "print(tupla.count(0))\n",
        "print(tupla.count(9))\n",
        "print(t+tupla)\n",
        "print(tupla.index(0))\n",
        "print(tupla.index(9))\n",
        "print(tupla.index(0,2))\n",
        "for x in enumerate(tupla):\n",
        "  print(x)\n",
        "for x,y in enumerate(tupla):\n",
        "  print(x,y)"
      ],
      "metadata": {
        "colab": {
          "base_uri": "https://localhost:8080/"
        },
        "id": "mWXuidrMqMns",
        "outputId": "38d6415e-f8c0-424a-bb79-f4a77f4c4a2d"
      },
      "execution_count": 5,
      "outputs": [
        {
          "output_type": "stream",
          "name": "stdout",
          "text": [
            "[0, 0, 3, 5, 9]\n",
            "2\n",
            "1\n",
            "('qww', False, 0, 0, 9, 5, 3, 0)\n",
            "0\n",
            "1\n",
            "4\n",
            "(0, 0)\n",
            "(1, 9)\n",
            "(2, 5)\n",
            "(3, 3)\n",
            "(4, 0)\n",
            "0 0\n",
            "1 9\n",
            "2 5\n",
            "3 3\n",
            "4 0\n"
          ]
        }
      ]
    },
    {
      "cell_type": "code",
      "source": [
        "#LISTAS PODEM SER MUDADAS\n",
        "lista = [0,'palavra',35,True,7]\n",
        "lista[4]='8'\n",
        "lista.append(9)\n",
        "lista.insert(1,'aaa')\n",
        "print(len(lista))\n",
        "print(lista)\n",
        "print(lista[0])\n",
        "print(lista[1:3])\n",
        "print(lista[1:])\n",
        "print(lista[:3])\n",
        "print(lista[-1])\n",
        "print(lista[-2])\n",
        "print(type(lista))\n",
        "print(type(lista[3]))\n",
        "del lista[2]\n",
        "print(lista)\n",
        "c = lista.pop(2)\n",
        "print(lista,c)\n",
        "lista.remove('aaa')\n",
        "print(lista)\n",
        "for i,j in enumerate(lista):\n",
        "  print('Na posição',i,'da tupla temos o valor',j,'.')"
      ],
      "metadata": {
        "colab": {
          "base_uri": "https://localhost:8080/"
        },
        "id": "yKvwEqrK6N52",
        "outputId": "099ab95c-109b-4947-c46a-3a79767ca0ef"
      },
      "execution_count": null,
      "outputs": [
        {
          "output_type": "stream",
          "name": "stdout",
          "text": [
            "7\n",
            "[0, 'aaa', 'palavra', 35, True, '8', 9]\n",
            "0\n",
            "['aaa', 'palavra']\n",
            "['aaa', 'palavra', 35, True, '8', 9]\n",
            "[0, 'aaa', 'palavra']\n",
            "9\n",
            "8\n",
            "<class 'list'>\n",
            "<class 'int'>\n",
            "[0, 'aaa', 35, True, '8', 9]\n",
            "[0, 'aaa', True, '8', 9] 35\n",
            "[0, True, '8', 9]\n",
            "Na posição 0 da tupla temos o valor 0 .\n",
            "Na posição 1 da tupla temos o valor True .\n",
            "Na posição 2 da tupla temos o valor 8 .\n",
            "Na posição 3 da tupla temos o valor 9 .\n"
          ]
        }
      ]
    },
    {
      "cell_type": "code",
      "source": [
        "lista = [0,9,5,3,0]\n",
        "t = ['qww',False,0]\n",
        "print(lista)\n",
        "print(lista.count(0))\n",
        "print(lista.count(9))\n",
        "print(t+lista)\n",
        "print(lista.index(0))\n",
        "print(lista.index(9))\n",
        "print(lista.index(0,2))\n",
        "print(sorted(lista))\n",
        "lista.sort\n",
        "print(lista)\n",
        "lista.sort(reverse=True)\n",
        "print(lista)"
      ],
      "metadata": {
        "colab": {
          "base_uri": "https://localhost:8080/"
        },
        "id": "tg88uxDP64KE",
        "outputId": "3197b7d0-1675-4bba-9223-f93cb38464ed"
      },
      "execution_count": 2,
      "outputs": [
        {
          "output_type": "stream",
          "name": "stdout",
          "text": [
            "[0, 9, 5, 3, 0]\n",
            "2\n",
            "1\n",
            "['qww', False, 0, 0, 9, 5, 3, 0]\n",
            "0\n",
            "1\n",
            "4\n",
            "[0, 0, 3, 5, 9]\n",
            "[0, 9, 5, 3, 0]\n",
            "[9, 5, 3, 0, 0]\n"
          ]
        }
      ]
    },
    {
      "cell_type": "code",
      "source": [],
      "metadata": {
        "id": "GPI-GbtfbfwF"
      },
      "execution_count": null,
      "outputs": []
    },
    {
      "cell_type": "code",
      "source": [
        "#Copiando e clonando listas\n",
        "A = list(range(1,10,2))\n",
        "B = A\n",
        "C = A[:]\n",
        "del A[3]\n",
        "print(A)\n",
        "print(B)\n",
        "print(C) "
      ],
      "metadata": {
        "colab": {
          "base_uri": "https://localhost:8080/"
        },
        "id": "wQLGuiRTBhsD",
        "outputId": "ffcee43c-f028-44a6-d3a1-35e83e3ec275"
      },
      "execution_count": null,
      "outputs": [
        {
          "output_type": "stream",
          "name": "stdout",
          "text": [
            "[1, 3, 5, 9]\n",
            "[1, 3, 5, 9]\n",
            "[1, 3, 5, 7, 9]\n"
          ]
        }
      ]
    },
    {
      "cell_type": "markdown",
      "source": [
        "DICIONÁRIOS"
      ],
      "metadata": {
        "id": "rvcPK1aIbvo0"
      }
    },
    {
      "cell_type": "code",
      "source": [
        "#DICIONÁRIOS\n",
        "\n",
        "dicio={'amarelo':22,'verde':3,'azul':15}\n",
        "print(dicio['amarelo'],dicio['verde'])\n",
        "print(dicio)\n",
        "dicio['amarelo']=23\n",
        "dicio['vermelho']=5\n",
        "print(dicio)\n",
        "print(dicio.keys())\n",
        "print(dicio.values())\n",
        "print(dicio.items())\n",
        "del dicio['vermelho']\n",
        "print(dicio)\n",
        "for i in dicio.keys():\n",
        "  print(i)\n",
        "for i,j in dicio.items():\n",
        "  print(f'A chave {i} corresponde ao valor {j}.')\n"
      ],
      "metadata": {
        "colab": {
          "base_uri": "https://localhost:8080/"
        },
        "id": "FQkfBPtGbtrD",
        "outputId": "815e08db-a674-48b4-bec8-5bfc08af990e"
      },
      "execution_count": null,
      "outputs": [
        {
          "output_type": "stream",
          "name": "stdout",
          "text": [
            "22 3\n",
            "{'amarelo': 22, 'verde': 3, 'azul': 15}\n",
            "{'amarelo': 23, 'verde': 3, 'azul': 15, 'vermelho': 5}\n",
            "dict_keys(['amarelo', 'verde', 'azul', 'vermelho'])\n",
            "dict_values([23, 3, 15, 5])\n",
            "dict_items([('amarelo', 23), ('verde', 3), ('azul', 15), ('vermelho', 5)])\n",
            "{'amarelo': 23, 'verde': 3, 'azul': 15}\n",
            "amarelo\n",
            "verde\n",
            "azul\n",
            "A chave amarelo corresponde ao valor 23.\n",
            "A chave verde corresponde ao valor 3.\n",
            "A chave azul corresponde ao valor 15.\n"
          ]
        }
      ]
    },
    {
      "cell_type": "markdown",
      "source": [],
      "metadata": {
        "id": "axkqj9Axbvl5"
      }
    },
    {
      "cell_type": "code",
      "source": [
        "#DICIONÁRIOS EM LISTAS\n",
        "nomes=[]\n",
        "lista=[]\n",
        "dicio={}\n",
        "n=int(input('Digite o número de alunos da turma '))\n",
        "for i in range(1,n+1):\n",
        "  dicio['nome']=input('Digite o nome do {i}º aluno ')\n",
        "  nota1=float(input('Digite a nota da primeira unidade do {i}º aluno '))\n",
        "  dicio['nota1']=nota1\n",
        "  nota2=float(input('Digite a nota da segunda unidade do {i}º aluno '))\n",
        "  dicio['nota2']=nota2\n",
        "  media=(nota1+nota2)/2\n",
        "  dicio['media']=media\n",
        "  lista.append(dicio.copy())\n",
        "print(lista)\n"
      ],
      "metadata": {
        "colab": {
          "base_uri": "https://localhost:8080/"
        },
        "id": "_oKuTnSwbh5O",
        "outputId": "ba3b311c-d462-4c77-cc81-53cb9be9058f"
      },
      "execution_count": null,
      "outputs": [
        {
          "output_type": "stream",
          "name": "stdout",
          "text": [
            "Digite o número de alunos da turma 3\n",
            "Digite o nome do {i}º aluno Marcelo\n",
            "Digite a nota da primeira unidade do {i}º aluno 5\n",
            "Digite a nota da segunda unidade do {i}º aluno 7\n",
            "Digite o nome do {i}º aluno João\n",
            "Digite a nota da primeira unidade do {i}º aluno 4\n",
            "Digite a nota da segunda unidade do {i}º aluno 8\n",
            "Digite o nome do {i}º aluno Maria\n",
            "Digite a nota da primeira unidade do {i}º aluno 5\n",
            "Digite a nota da segunda unidade do {i}º aluno 9\n",
            "[{'nome': 'Marcelo', 'nota1': 5.0, 'nota2': 7.0, 'media': 6.0}, {'nome': 'João', 'nota1': 4.0, 'nota2': 8.0, 'media': 6.0}, {'nome': 'Maria', 'nota1': 5.0, 'nota2': 9.0, 'media': 7.0}]\n"
          ]
        }
      ]
    }
  ]
}